{
 "cells": [
  {
   "cell_type": "markdown",
   "metadata": {},
   "source": [
    "# Max Flow Applications\n",
    "\n",
    "The purpose of this assignment is to investigate applications of finding a Max Flow. The problem asks you to design and implement an algorithm for shipping a material between nodes with different supply and demand requirements.\n",
    "\n",
    "* Please write code *only* in the bodies of the two functions, that is, following the TODO comments.\n",
    "* Be careful not to use variables defined outside of the functions.\n",
    "* Breaking the two above rules may lead to 0 grades."
   ]
  },
  {
   "cell_type": "markdown",
   "metadata": {},
   "source": [
    "## Movie distribution\n",
    "\n",
    "First solve Problem 2 from HW4 (theory part). \n",
    "\n",
    "Now suppose a movie distributor would like to ship a copy of a film from CA to every other state. There are therefore 48 units to ship out of CA, and each other state receives 1 unit. \n",
    "\n",
    "The dataset contiguous-usa.dat lists the adjacent states in the US. Each line lists two adjacent states; thus AK and HI are omitted, but DC is included in the data. The following code reads in the graph of US states."
   ]
  },
  {
   "cell_type": "code",
   "execution_count": 1,
   "metadata": {},
   "outputs": [],
   "source": [
    "import networkx as nx\n",
    "G = nx.Graph()\n",
    "\n",
    "usa = open('contiguous-usa.dat')\n",
    "for line in usa:\n",
    "    s1, s2 = line.strip().split()\n",
    "    G.add_edge(s1, s2)"
   ]
  },
  {
   "cell_type": "markdown",
   "metadata": {},
   "source": [
    "We now encode the demands into the graph."
   ]
  },
  {
   "cell_type": "code",
   "execution_count": 2,
   "metadata": {},
   "outputs": [],
   "source": [
    "for state in G.nodes():\n",
    "    if state != 'CA':\n",
    "        G.nodes[state]['demand'] = 1\n",
    "G.nodes['CA']['demand'] = -48"
   ]
  },
  {
   "cell_type": "markdown",
   "metadata": {},
   "source": [
    "We will assign a uniform capacity of 16 to each edge. Since CA has only three adjacent states, this is the smallest possible uniform capacity that allows one to ship all 48 units out of CA. As we have created an undirected graph, and flows have directions, we first convert the graph to a directed graph."
   ]
  },
  {
   "cell_type": "code",
   "execution_count": 3,
   "metadata": {},
   "outputs": [],
   "source": [
    "G = nx.DiGraph(G)\n",
    "uniform_capacity = 16\n",
    "for (s1, s2) in G.edges():\n",
    "    G.edges[s1, s2]['capacity'] = uniform_capacity"
   ]
  },
  {
   "cell_type": "markdown",
   "metadata": {},
   "source": [
    "Complete the following function to implement your algorithm to find a flow with demands. Your function should work correctly for any input, not just the movie instance considered here. As always, you are encouraged to define auxiliary functions as needed for clarity."
   ]
  },
  {
   "cell_type": "code",
   "execution_count": 4,
   "metadata": {},
   "outputs": [],
   "source": [
    "def flow_with_demands(graph):\n",
    "    \"\"\"Computes a flow with demands over the given graph.\n",
    "    \n",
    "    Args:\n",
    "        graph: A directed graph with nodes annotated with 'demand' properties and edges annotated with 'capacity' \n",
    "            properties.\n",
    "        \n",
    "    Returns:\n",
    "        A dict of dicts containing the flow on each edge. For instance, flow[s1][s2] should provide the flow along\n",
    "        edge (s1, s2).\n",
    "        \n",
    "    Raises:\n",
    "        NetworkXUnfeasible: An error is thrown if there is no flow satisfying the demands.\n",
    "    \"\"\"\n",
    "    # Create a copy of the graph to avoid modifying the original graph\n",
    "    flow_graph = graph.copy()\n",
    "    source_demand = 0 #for checking feasibility\n",
    "    sink_demand = 0\n",
    "\n",
    "    # Add a supersource and supersink to handle the demands\n",
    "    supersource = 'supersource'\n",
    "    supersink = 'supersink'\n",
    "    flow_graph.add_node(supersource)\n",
    "    flow_graph.add_node(supersink)\n",
    "\n",
    "    # Connect supersource to the source nodes and the supersink to the sink nodes\n",
    "    for state in flow_graph.nodes():\n",
    "        demand = flow_graph.nodes[state].get('demand', 0) #For retirieving the demand, if it is not present it defaluts to zero\n",
    "        if demand < 0:\n",
    "            flow_graph.add_edge(supersource, state, capacity=abs(demand)) #Connecting the source to a supersource with the demand values\n",
    "            source_demand +=  abs(demand)\n",
    "            \n",
    "        elif demand > 0:\n",
    "            flow_graph.add_edge(state, supersink, capacity=abs(demand)) #Connecting the sinks to the supersink with the demand values\n",
    "            sink_demand +=  abs(demand)\n",
    "            \n",
    "\n",
    "    # Compute the maximum flow\n",
    "    flow_value, flow_dict = nx.maximum_flow(flow_graph, supersource, supersink ) #getting the flow value and the flow dictionary from the flow graph\n",
    "\n",
    "    #Checking if max_flow is feasible\n",
    "    #1.For a flow network with demands net demands should be conserved i.e. sum(demands)=0\n",
    "    if sink_demand != source_demand:\n",
    "        raise nx.NetworkXUnfeasible(\"No flow satisfies the demands.\")\n",
    "    #2.Necessary conditions for maxflow : flow into a node = flow out of a node\n",
    "    for node in flow_graph.nodes():\n",
    "        if node != supersink and node !=supersource: #this statement is true for all nodes except the sink node and the source node\n",
    "            demand = flow_graph.nodes[node].get('demand', 0)\n",
    "\n",
    "        # Calculate net flow into the node\n",
    "            net_flow = sum(flow_dict[other_node][node] for other_node in graph.predecessors(node)) - \\\n",
    "                        sum(flow_dict[node][other_node] for other_node in graph.successors(node))\n",
    "\n",
    "        # Check if net flow doesn't match the demand\n",
    "            if demand != net_flow:\n",
    "                raise nx.NetworkXUnfeasible(\"No flow satisfies the demands.\")\n",
    "    #3. The flowvalue in a flow with demands should be equal to the source demand\n",
    "    if source_demand != flow_value:\n",
    "        raise nx.NetworkXUnfeasible(\"No flow satisfier the demands\")\n",
    "\n",
    "\n",
    "    # Remove the added edges and nodes from the flow_dict\n",
    "    del flow_dict[supersource]\n",
    "    del flow_dict[supersink]\n",
    "    for node in list(flow_dict.keys()):\n",
    "        if supersource in flow_dict[node]:\n",
    "            del flow_dict[node][supersource]\n",
    "\n",
    "        if supersink in flow_dict[node]:\n",
    "            del flow_dict[node][supersink]\n",
    "\n",
    "    return flow_dict\n",
    "\n",
    "\n",
    "\n"
   ]
  },
  {
   "cell_type": "markdown",
   "metadata": {},
   "source": [
    "To verify that your solution is correct, implement a function that computes the total flow into each node (which will be negative for supply nodes)."
   ]
  },
  {
   "cell_type": "code",
   "execution_count": 5,
   "metadata": {},
   "outputs": [],
   "source": [
    "def divergence(flow):\n",
    "    \"\"\"Computes the total flow into each node according to the given flow dict.\n",
    "    \n",
    "    Args:\n",
    "        flow: the flow dict recording flow between nodes.\n",
    "        \n",
    "    Returns:\n",
    "        A dict of the net flow into each node.\n",
    "    \"\"\"\n",
    "    #Using Dictionary to get the nodes i.e. keys\n",
    "    net_flow = {node: 0 for node in flow.keys()}\n",
    "\n",
    "    #Using Dictionary to compute the net_flow out of each node\n",
    "    for s, t in flow.items():\n",
    "        for t, flow_value in t.items():\n",
    "            net_flow[s] -= flow_value\n",
    "            net_flow[t] += flow_value\n",
    "\n",
    "    return net_flow\n"
   ]
  },
  {
   "cell_type": "markdown",
   "metadata": {},
   "source": [
    "The following code performs a sanity check on your function (but does not completely confirm correctness)."
   ]
  },
  {
   "cell_type": "code",
   "execution_count": 6,
   "metadata": {},
   "outputs": [
    {
     "name": "stdout",
     "output_type": "stream",
     "text": [
      "Flow satisfies all demands: True\n"
     ]
    }
   ],
   "source": [
    "# flow = flow_with_demands(G)\n",
    "# div = divergence(flow)\n",
    "# print (\"Flow satisfies all demands:\", all(div[n] == G.nodes[n]['demand'] for n in G.nodes()))"
   ]
  },
  {
   "cell_type": "code",
   "execution_count": null,
   "metadata": {},
   "outputs": [],
   "source": []
  }
 ],
 "metadata": {
  "kernelspec": {
   "display_name": "Python 3 (ipykernel)",
   "language": "python",
   "name": "python3"
  },
  "language_info": {
   "codemirror_mode": {
    "name": "ipython",
    "version": 3
   },
   "file_extension": ".py",
   "mimetype": "text/x-python",
   "name": "python",
   "nbconvert_exporter": "python",
   "pygments_lexer": "ipython3",
   "version": "3.11.5"
  }
 },
 "nbformat": 4,
 "nbformat_minor": 1
}
